{
 "cells": [
  {
   "cell_type": "code",
   "execution_count": 1,
   "id": "d21a8621-f044-408a-96e2-2c638b856d80",
   "metadata": {},
   "outputs": [
    {
     "ename": "ModuleNotFoundError",
     "evalue": "No module named 'matplotlib'",
     "output_type": "error",
     "traceback": [
      "\u001b[0;31m---------------------------------------------------------------------------\u001b[0m",
      "\u001b[0;31mModuleNotFoundError\u001b[0m                       Traceback (most recent call last)",
      "Cell \u001b[0;32mIn[1], line 1\u001b[0m\n\u001b[0;32m----> 1\u001b[0m \u001b[43mget_ipython\u001b[49m\u001b[43m(\u001b[49m\u001b[43m)\u001b[49m\u001b[38;5;241;43m.\u001b[39;49m\u001b[43mrun_line_magic\u001b[49m\u001b[43m(\u001b[49m\u001b[38;5;124;43m'\u001b[39;49m\u001b[38;5;124;43mpylab\u001b[39;49m\u001b[38;5;124;43m'\u001b[39;49m\u001b[43m,\u001b[49m\u001b[43m \u001b[49m\u001b[38;5;124;43m'\u001b[39;49m\u001b[38;5;124;43minline\u001b[39;49m\u001b[38;5;124;43m'\u001b[39;49m\u001b[43m)\u001b[49m\n\u001b[1;32m      2\u001b[0m \u001b[38;5;28;01mimport\u001b[39;00m \u001b[38;5;21;01mpandas\u001b[39;00m \u001b[38;5;28;01mas\u001b[39;00m \u001b[38;5;21;01mpd\u001b[39;00m\n\u001b[1;32m      3\u001b[0m \u001b[38;5;28;01mimport\u001b[39;00m \u001b[38;5;21;01mnumpy\u001b[39;00m \u001b[38;5;28;01mas\u001b[39;00m \u001b[38;5;21;01mnp\u001b[39;00m\n",
      "File \u001b[0;32m~/miniconda3/lib/python3.10/site-packages/IPython/core/interactiveshell.py:2369\u001b[0m, in \u001b[0;36mInteractiveShell.run_line_magic\u001b[0;34m(self, magic_name, line, _stack_depth)\u001b[0m\n\u001b[1;32m   2367\u001b[0m     kwargs[\u001b[38;5;124m'\u001b[39m\u001b[38;5;124mlocal_ns\u001b[39m\u001b[38;5;124m'\u001b[39m] \u001b[38;5;241m=\u001b[39m \u001b[38;5;28mself\u001b[39m\u001b[38;5;241m.\u001b[39mget_local_scope(stack_depth)\n\u001b[1;32m   2368\u001b[0m \u001b[38;5;28;01mwith\u001b[39;00m \u001b[38;5;28mself\u001b[39m\u001b[38;5;241m.\u001b[39mbuiltin_trap:\n\u001b[0;32m-> 2369\u001b[0m     result \u001b[38;5;241m=\u001b[39m \u001b[43mfn\u001b[49m\u001b[43m(\u001b[49m\u001b[38;5;241;43m*\u001b[39;49m\u001b[43margs\u001b[49m\u001b[43m,\u001b[49m\u001b[43m \u001b[49m\u001b[38;5;241;43m*\u001b[39;49m\u001b[38;5;241;43m*\u001b[39;49m\u001b[43mkwargs\u001b[49m\u001b[43m)\u001b[49m\n\u001b[1;32m   2370\u001b[0m \u001b[38;5;28;01mreturn\u001b[39;00m result\n",
      "File \u001b[0;32m~/miniconda3/lib/python3.10/site-packages/IPython/core/magics/pylab.py:155\u001b[0m, in \u001b[0;36mPylabMagics.pylab\u001b[0;34m(self, line)\u001b[0m\n\u001b[1;32m    151\u001b[0m \u001b[38;5;28;01melse\u001b[39;00m:\n\u001b[1;32m    152\u001b[0m     \u001b[38;5;66;03m# invert no-import flag\u001b[39;00m\n\u001b[1;32m    153\u001b[0m     import_all \u001b[38;5;241m=\u001b[39m \u001b[38;5;129;01mnot\u001b[39;00m args\u001b[38;5;241m.\u001b[39mno_import_all\n\u001b[0;32m--> 155\u001b[0m gui, backend, clobbered \u001b[38;5;241m=\u001b[39m \u001b[38;5;28;43mself\u001b[39;49m\u001b[38;5;241;43m.\u001b[39;49m\u001b[43mshell\u001b[49m\u001b[38;5;241;43m.\u001b[39;49m\u001b[43menable_pylab\u001b[49m\u001b[43m(\u001b[49m\u001b[43margs\u001b[49m\u001b[38;5;241;43m.\u001b[39;49m\u001b[43mgui\u001b[49m\u001b[43m,\u001b[49m\u001b[43m \u001b[49m\u001b[43mimport_all\u001b[49m\u001b[38;5;241;43m=\u001b[39;49m\u001b[43mimport_all\u001b[49m\u001b[43m)\u001b[49m\n\u001b[1;32m    156\u001b[0m \u001b[38;5;28mself\u001b[39m\u001b[38;5;241m.\u001b[39m_show_matplotlib_backend(args\u001b[38;5;241m.\u001b[39mgui, backend)\n\u001b[1;32m    157\u001b[0m \u001b[38;5;28mprint\u001b[39m(\n\u001b[1;32m    158\u001b[0m     \u001b[38;5;124m\"\u001b[39m\u001b[38;5;124m%\u001b[39m\u001b[38;5;124mpylab is deprecated, use \u001b[39m\u001b[38;5;124m%\u001b[39m\u001b[38;5;124mmatplotlib inline and import the required libraries.\u001b[39m\u001b[38;5;124m\"\u001b[39m\n\u001b[1;32m    159\u001b[0m )\n",
      "File \u001b[0;32m~/miniconda3/lib/python3.10/site-packages/IPython/core/interactiveshell.py:3576\u001b[0m, in \u001b[0;36mInteractiveShell.enable_pylab\u001b[0;34m(self, gui, import_all, welcome_message)\u001b[0m\n\u001b[1;32m   3549\u001b[0m \u001b[38;5;250m\u001b[39m\u001b[38;5;124;03m\"\"\"Activate pylab support at runtime.\u001b[39;00m\n\u001b[1;32m   3550\u001b[0m \n\u001b[1;32m   3551\u001b[0m \u001b[38;5;124;03mThis turns on support for matplotlib, preloads into the interactive\u001b[39;00m\n\u001b[0;32m   (...)\u001b[0m\n\u001b[1;32m   3572\u001b[0m \u001b[38;5;124;03m    This argument is ignored, no welcome message will be displayed.\u001b[39;00m\n\u001b[1;32m   3573\u001b[0m \u001b[38;5;124;03m\"\"\"\u001b[39;00m\n\u001b[1;32m   3574\u001b[0m \u001b[38;5;28;01mfrom\u001b[39;00m \u001b[38;5;21;01mIPython\u001b[39;00m\u001b[38;5;21;01m.\u001b[39;00m\u001b[38;5;21;01mcore\u001b[39;00m\u001b[38;5;21;01m.\u001b[39;00m\u001b[38;5;21;01mpylabtools\u001b[39;00m \u001b[38;5;28;01mimport\u001b[39;00m import_pylab\n\u001b[0;32m-> 3576\u001b[0m gui, backend \u001b[38;5;241m=\u001b[39m \u001b[38;5;28;43mself\u001b[39;49m\u001b[38;5;241;43m.\u001b[39;49m\u001b[43menable_matplotlib\u001b[49m\u001b[43m(\u001b[49m\u001b[43mgui\u001b[49m\u001b[43m)\u001b[49m\n\u001b[1;32m   3578\u001b[0m \u001b[38;5;66;03m# We want to prevent the loading of pylab to pollute the user's\u001b[39;00m\n\u001b[1;32m   3579\u001b[0m \u001b[38;5;66;03m# namespace as shown by the %who* magics, so we execute the activation\u001b[39;00m\n\u001b[1;32m   3580\u001b[0m \u001b[38;5;66;03m# code in an empty namespace, and we update *both* user_ns and\u001b[39;00m\n\u001b[1;32m   3581\u001b[0m \u001b[38;5;66;03m# user_ns_hidden with this information.\u001b[39;00m\n\u001b[1;32m   3582\u001b[0m ns \u001b[38;5;241m=\u001b[39m {}\n",
      "File \u001b[0;32m~/miniconda3/lib/python3.10/site-packages/IPython/core/interactiveshell.py:3522\u001b[0m, in \u001b[0;36mInteractiveShell.enable_matplotlib\u001b[0;34m(self, gui)\u001b[0m\n\u001b[1;32m   3501\u001b[0m \u001b[38;5;28;01mdef\u001b[39;00m \u001b[38;5;21menable_matplotlib\u001b[39m(\u001b[38;5;28mself\u001b[39m, gui\u001b[38;5;241m=\u001b[39m\u001b[38;5;28;01mNone\u001b[39;00m):\n\u001b[1;32m   3502\u001b[0m \u001b[38;5;250m    \u001b[39m\u001b[38;5;124;03m\"\"\"Enable interactive matplotlib and inline figure support.\u001b[39;00m\n\u001b[1;32m   3503\u001b[0m \n\u001b[1;32m   3504\u001b[0m \u001b[38;5;124;03m    This takes the following steps:\u001b[39;00m\n\u001b[0;32m   (...)\u001b[0m\n\u001b[1;32m   3520\u001b[0m \u001b[38;5;124;03m        display figures inline.\u001b[39;00m\n\u001b[1;32m   3521\u001b[0m \u001b[38;5;124;03m    \"\"\"\u001b[39;00m\n\u001b[0;32m-> 3522\u001b[0m     \u001b[38;5;28;01mfrom\u001b[39;00m \u001b[38;5;21;01mmatplotlib_inline\u001b[39;00m\u001b[38;5;21;01m.\u001b[39;00m\u001b[38;5;21;01mbackend_inline\u001b[39;00m \u001b[38;5;28;01mimport\u001b[39;00m configure_inline_support\n\u001b[1;32m   3524\u001b[0m     \u001b[38;5;28;01mfrom\u001b[39;00m \u001b[38;5;21;01mIPython\u001b[39;00m\u001b[38;5;21;01m.\u001b[39;00m\u001b[38;5;21;01mcore\u001b[39;00m \u001b[38;5;28;01mimport\u001b[39;00m pylabtools \u001b[38;5;28;01mas\u001b[39;00m pt\n\u001b[1;32m   3525\u001b[0m     gui, backend \u001b[38;5;241m=\u001b[39m pt\u001b[38;5;241m.\u001b[39mfind_gui_and_backend(gui, \u001b[38;5;28mself\u001b[39m\u001b[38;5;241m.\u001b[39mpylab_gui_select)\n",
      "File \u001b[0;32m~/miniconda3/lib/python3.10/site-packages/matplotlib_inline/__init__.py:1\u001b[0m\n\u001b[0;32m----> 1\u001b[0m \u001b[38;5;28;01mfrom\u001b[39;00m \u001b[38;5;21;01m.\u001b[39;00m \u001b[38;5;28;01mimport\u001b[39;00m backend_inline, config  \u001b[38;5;66;03m# noqa\u001b[39;00m\n\u001b[1;32m      2\u001b[0m __version__ \u001b[38;5;241m=\u001b[39m \u001b[38;5;124m\"\u001b[39m\u001b[38;5;124m0.1.6\u001b[39m\u001b[38;5;124m\"\u001b[39m  \u001b[38;5;66;03m# noqa\u001b[39;00m\n",
      "File \u001b[0;32m~/miniconda3/lib/python3.10/site-packages/matplotlib_inline/backend_inline.py:6\u001b[0m\n\u001b[1;32m      1\u001b[0m \u001b[38;5;124;03m\"\"\"A matplotlib backend for publishing figures via display_data\"\"\"\u001b[39;00m\n\u001b[1;32m      3\u001b[0m \u001b[38;5;66;03m# Copyright (c) IPython Development Team.\u001b[39;00m\n\u001b[1;32m      4\u001b[0m \u001b[38;5;66;03m# Distributed under the terms of the BSD 3-Clause License.\u001b[39;00m\n\u001b[0;32m----> 6\u001b[0m \u001b[38;5;28;01mimport\u001b[39;00m \u001b[38;5;21;01mmatplotlib\u001b[39;00m\n\u001b[1;32m      7\u001b[0m \u001b[38;5;28;01mfrom\u001b[39;00m \u001b[38;5;21;01mmatplotlib\u001b[39;00m \u001b[38;5;28;01mimport\u001b[39;00m colors\n\u001b[1;32m      8\u001b[0m \u001b[38;5;28;01mfrom\u001b[39;00m \u001b[38;5;21;01mmatplotlib\u001b[39;00m\u001b[38;5;21;01m.\u001b[39;00m\u001b[38;5;21;01mbackends\u001b[39;00m \u001b[38;5;28;01mimport\u001b[39;00m backend_agg\n",
      "\u001b[0;31mModuleNotFoundError\u001b[0m: No module named 'matplotlib'"
     ]
    }
   ],
   "source": [
    "%pylab inline\n",
    "import pandas as pd\n",
    "import numpy as np\n",
    "from scipy import stats"
   ]
  },
  {
   "cell_type": "code",
   "execution_count": null,
   "id": "1ae1a938-9b4d-48fe-b678-c8c693e5fcbe",
   "metadata": {},
   "outputs": [],
   "source": [
    "def make_lognorm(mean,std):\n",
    "    # Creates lognormal distribution with specific mean and standard deviation\n",
    "    shape = np.sqrt(np.log((std**2 + mean**2)/mean**2))\n",
    "    scale = (mean**3 * np.sqrt((std**2 + mean**2)/mean**2))/(std**2 + mean**2)\n",
    "    return stats.lognorm(shape,scale=scale)"
   ]
  },
  {
   "cell_type": "code",
   "execution_count": null,
   "id": "0b0bf6e3-2949-43fa-bb74-3c51ff4180a0",
   "metadata": {},
   "outputs": [],
   "source": [
    "def est_poission_rate_ci(n_events, \n",
    "                         source_duration, \n",
    "                         target_duration=1.0, \n",
    "                         ci=0.98,\n",
    "                         expected_avg_n_events_per_unit_duration=200):\n",
    "    \"\"\"\n",
    "    Estimate poission rate parameter confidence interval\n",
    "\n",
    "    Parameters\n",
    "    ----------\n",
    "    n_events : int\n",
    "        number of observed events\n",
    "    source_duration : float\n",
    "        duration for which n_events were observed\n",
    "    target_duration : float\n",
    "        duration for which to return expected rate\n",
    "    ci : float\n",
    "        size of confidence interval\n",
    "\n",
    "    Returns\n",
    "    -------\n",
    "    (float,float)\n",
    "        Confidence interval left, right bounds\n",
    "    \"\"\"\n",
    "    \n",
    "    def calc_posterior(prior_shape, prior_scale, n_events, duration):\n",
    "        posterior_shape = prior_shape + n_events\n",
    "        posterior_scale = prior_scale/(prior_scale*duration+1)\n",
    "\n",
    "        return posterior_shape, posterior_scale\n",
    "\n",
    "    rate_prior_average = expected_avg_n_events_per_unit_duration\n",
    "    rate_prior_shape = 1\n",
    "    rate_prior_scale = rate_prior_average/rate_prior_shape\n",
    "    rate_prior = stats.gamma(rate_prior_shape,scale=rate_prior_scale)\n",
    "    \n",
    "    posterior_shape, posterior_scale = calc_posterior(rate_prior_shape, \n",
    "                                                      rate_prior_scale, \n",
    "                                                      n_events, \n",
    "                                                      source_duration/target_duration)\n",
    "    posterior = stats.gamma(posterior_shape,scale=posterior_scale)\n",
    "    return posterior\n",
    "    "
   ]
  },
  {
   "cell_type": "code",
   "execution_count": null,
   "id": "c542761e-e236-4c99-bbab-1a5bca23f194",
   "metadata": {},
   "outputs": [],
   "source": [
    "# Find lower bound for specific confidence interval\n",
    "def find_lower_ci(obs,risk_premium):\n",
    "    exp_rate = np.array(desp(obs))\n",
    "    #exp_rate = exp_rate.reshape((len(exp_rate), 1))        \n",
    "    lower_ci = np.array(([(rate - risk_premium) for rate in exp_rate]))\n",
    "    df['lower_ci'] = lower_ci\n",
    "\n",
    "\n",
    "def is_outlier(lower_ci, obs):\n",
    "    # lower_ci - Any rate below lower_ci is an outlier\n",
    "    # Observed rate estimated from observations\n",
    "    obs_rate = est_poission_rate_ci(obs,1)\n",
    "    return obs_rate.cdf(lower_ci) > 0.99\n"
   ]
  },
  {
   "cell_type": "code",
   "execution_count": null,
   "id": "a569d437-539b-494f-837a-bac4613bdbbe",
   "metadata": {},
   "outputs": [],
   "source": [
    "obs = 10_000_000\n",
    "lower_ci = obs*1.001\n",
    "is_outlier(lower_ci, obs)"
   ]
  },
  {
   "cell_type": "code",
   "execution_count": null,
   "id": "c7d520c0-248a-40cb-bc47-a507f084c510",
   "metadata": {},
   "outputs": [],
   "source": [
    "obs = 7\n",
    "lower_ci = obs*2.3\n",
    "print(lower_ci)\n",
    "is_outlier(lower_ci, obs)"
   ]
  },
  {
   "cell_type": "code",
   "execution_count": null,
   "id": "0fe33269-c068-4dd7-b2e5-365230017f67",
   "metadata": {},
   "outputs": [],
   "source": [
    "def calc_detection_rate(exp_rate_mean,anomaly_mult):\n",
    "    expected_rate = make_lognorm(exp_rate_mean,exp_rate_mean/1000)\n",
    "    exp_rate_lower_ci = find_lower_ci(exp_ra ) # This is to be computed by Thomas\n",
    "    \n",
    "    detections = list()\n",
    "    for obs in stats.poisson(expected_rate.rvs(100)*anomaly_mult).rvs():\n",
    "        detections.append(is_outlier(exp_rate_lower_ci, obs) )\n",
    "    return np.array(detections).mean()"
   ]
  },
  {
   "cell_type": "code",
   "execution_count": null,
   "id": "98b8f632-0b38-4501-ba7f-a06b0f942e46",
   "metadata": {},
   "outputs": [],
   "source": [
    "mult = np.linspace(0,1.1)\n",
    "dr = list()\n",
    "for i, m in enumerate(mult):\n",
    "    print(f'\\r{i}',end='   ',flush=True)\n",
    "    dr.append( calc_detection_rate(200,m))"
   ]
  },
  {
   "cell_type": "code",
   "execution_count": null,
   "id": "3d7797e6-c457-420c-897f-7c2fa2c486ee",
   "metadata": {},
   "outputs": [],
   "source": [
    "plot(mult,dr)\n",
    "xlabel(\"Anomaly coef\")"
   ]
  },
  {
   "cell_type": "code",
   "execution_count": null,
   "id": "fa8817f3-d352-49fc-805a-a6f960fac242",
   "metadata": {},
   "outputs": [],
   "source": [
    "calc_detection_rate(5)\n"
   ]
  },
  {
   "cell_type": "code",
   "execution_count": null,
   "id": "5b8a9cfc-9ff9-477c-9a93-62314b81b290",
   "metadata": {},
   "outputs": [],
   "source": [
    "detections = list()\n",
    "for _ in range(2000):\n",
    "    obs = stats.poisson(expected_rate.rvs(1) * 0.5 ).rvs()\n",
    "    detections.append(is_outlier(exp_rate_lower_ci, obs) )\n",
    "detection_rate = np.array(detections).mean()"
   ]
  },
  {
   "cell_type": "code",
   "execution_count": null,
   "id": "3d15c444-c44d-435e-91dc-527d6db6a4e0",
   "metadata": {},
   "outputs": [],
   "source": [
    "detection_rate\n"
   ]
  },
  {
   "cell_type": "code",
   "execution_count": null,
   "id": "40ff9c0a-4051-40f7-88de-0de15eb8d686",
   "metadata": {},
   "outputs": [],
   "source": [
    "obs = stats.poisson(expected_rate.rvs(1)).rvs()\n",
    "obs_rate = est_poission_rate_ci(obs,1)"
   ]
  },
  {
   "cell_type": "code",
   "execution_count": null,
   "id": "0ea7c7eb-5809-4b4a-ba8c-cf12d95173cb",
   "metadata": {},
   "outputs": [],
   "source": [
    "def is_outlier(lower_ci, obs):\n",
    "    obs_rate = est_poission_rate_ci(obs,1)\n",
    "    return obs_rate.cdf(exp_rate_lower_ci) > 0.95"
   ]
  },
  {
   "cell_type": "code",
   "execution_count": null,
   "id": "0aa66c02-6d9a-4394-91af-d2baa11b4734",
   "metadata": {},
   "outputs": [],
   "source": [
    "obs_rate.cdf(exp_rate_lower_ci) > 0.95\n"
   ]
  },
  {
   "cell_type": "code",
   "execution_count": null,
   "id": "7806f96f-55b1-4eb1-aed7-474268e5c92d",
   "metadata": {},
   "outputs": [],
   "source": [
    "support = np.linspace(0,20,1000)\n",
    "plot(support, obs_rate.pdf(support))\n",
    "plot(support, expected_rate.pdf(support))"
   ]
  },
  {
   "cell_type": "code",
   "execution_count": null,
   "id": "07030d5d-370a-4ac1-8316-91e625b86535",
   "metadata": {},
   "outputs": [],
   "source": [
    "expected_rate.cdf(0.1)\n"
   ]
  }
 ],
 "metadata": {
  "kernelspec": {
   "display_name": "Python 3 (ipykernel)",
   "language": "python",
   "name": "python3"
  },
  "language_info": {
   "codemirror_mode": {
    "name": "ipython",
    "version": 3
   },
   "file_extension": ".py",
   "mimetype": "text/x-python",
   "name": "python",
   "nbconvert_exporter": "python",
   "pygments_lexer": "ipython3",
   "version": "3.10.8"
  }
 },
 "nbformat": 4,
 "nbformat_minor": 5
}
